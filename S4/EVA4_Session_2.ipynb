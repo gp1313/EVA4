{
 "cells": [
  {
   "cell_type": "code",
   "execution_count": 1,
   "metadata": {},
   "outputs": [],
   "source": [
    "from __future__ import print_function\n",
    "import torch\n",
    "import torch.nn as nn\n",
    "import torch.nn.functional as F\n",
    "import torch.optim as optim\n",
    "from torchvision import datasets, transforms\n",
    "from torchsummary import summary\n",
    "import random\n",
    "import numpy as np"
   ]
  },
  {
   "cell_type": "code",
   "execution_count": null,
   "metadata": {},
   "outputs": [],
   "source": [
    "random.seed(1)\n",
    "np.random.seed(1)"
   ]
  },
  {
   "cell_type": "markdown",
   "metadata": {},
   "source": [
    "## Orignal architecture"
   ]
  },
  {
   "cell_type": "code",
   "execution_count": 2,
   "metadata": {},
   "outputs": [],
   "source": [
    "# class Net(nn.Module):\n",
    "#     def __init__(self):\n",
    "#         super(Net, self).__init__()\n",
    "#         self.conv1 = nn.Conv2d(1, 32, 3, padding=1) #input 28x28x1 Output 28x28x32 RF 3\n",
    "#         self.conv2 = nn.Conv2d(32, 64, 3, padding=1) #input 28x28x32 Output 28x28x64 RF 5\n",
    "#         self.pool1 = nn.MaxPool2d(2, 2) #input 28x28x64 Output 14x14x64 RF 6\n",
    "#         self.conv3 = nn.Conv2d(64, 128, 3, padding=1) #input 14x14x64 Output 14x14x128 RF 10\n",
    "#         self.conv4 = nn.Conv2d(128, 256, 3, padding=1) #input 14x14x128 Output 14x14x256 RF 14\n",
    "#         self.pool2 = nn.MaxPool2d(2, 2) #input 14x14x256 Output 7x7x256 RF 16\n",
    "#         self.conv5 = nn.Conv2d(256, 512, 3) #input 7x7x256 Output 5x5x512 RF 24\n",
    "#         self.conv6 = nn.Conv2d(512, 1024, 3) #input 5x5x512 Output 3x3x1024 RF 28\n",
    "#         self.conv7 = nn.Conv2d(1024, 10, 3) #input 3x3x1024 Output 1x1x10 RF 36\n",
    "\n",
    "#     def forward(self, x):\n",
    "#         x = self.pool1(F.relu(self.conv2(F.relu(self.conv1(x)))))\n",
    "#         x = self.pool2(F.relu(self.conv4(F.relu(self.conv3(x)))))\n",
    "#         x = F.relu(self.conv6(F.relu(self.conv5(x))))\n",
    "#         x = self.conv7(x)\n",
    "#         x = x.view(-1, 10)\n",
    "#         return F.log_softmax(x)"
   ]
  },
  {
   "cell_type": "markdown",
   "metadata": {},
   "source": [
    "## 20K parameter Architecture (GAP and kernels range 8 to 32)"
   ]
  },
  {
   "cell_type": "code",
   "execution_count": 3,
   "metadata": {},
   "outputs": [],
   "source": [
    "class Net(nn.Module):\n",
    "    def __init__(self):\n",
    "        super(Net, self).__init__()\n",
    "        self.conv1 = nn.Conv2d(1, 8, 3, padding=1, bias=False) #input 28x28x1 Output 28x28x32 RF 3\n",
    "        self.conv2 = nn.Conv2d(8, 16, 3, padding=1, bias=False) #input 28x28x32 Output 28x28x64 RF 5\n",
    "        self.pool1 = nn.MaxPool2d(2, 2) #input 28x28x64 Output 14x14x64 RF 6\n",
    "        self.conv3 = nn.Conv2d(16, 32, 3, padding=1, bias=False) #input 14x14x64 Output 14x14x128 RF 10\n",
    "        self.conv4 = nn.Conv2d(32, 32, 3, padding=1, bias=False) #input 14x14x128 Output 14x14x256 RF 14\n",
    "        self.conv4_1 = nn.Conv2d(32, 8, 1) #input 14x14x128 Output 14x14x256 RF 14\n",
    "        self.pool2 = nn.MaxPool2d(2, 2) #input 14x14x256 Output 7x7x256 RF 16\n",
    "        self.conv5 = nn.Conv2d(8, 16, 3, bias=False) #input 7x7x256 Output 5x5x512 RF 24\n",
    "        self.conv5_1 = nn.Conv2d(16, 16, 3, bias=False) #input 7x7x256 Output 5x5x512 RF 24\n",
    "        self.gap6 = nn.AdaptiveAvgPool2d((1, 1)) #input 5x5x512 Output 3x3x1024 RF 28\n",
    "        self.conv7 = nn.Conv2d(16, 10, 1) #input 3x3x1024 Output 1x1x10 RF 36\n",
    "\n",
    "    def forward(self, x):\n",
    "        x = self.pool1(F.relu(self.conv2(F.relu(self.conv1(x)))))\n",
    "        x = self.pool2(F.relu(self.conv4_1(F.relu(self.conv4(F.relu(self.conv3(x)))))))\n",
    "        x = F.relu(self.gap6(F.relu(self.conv5_1(F.relu(self.conv5(x))))))\n",
    "        x = self.conv7(x)\n",
    "        x = x.view(-1, 10)\n",
    "        return F.log_softmax(x)"
   ]
  },
  {
   "cell_type": "markdown",
   "metadata": {},
   "source": [
    "## Batch Normalization"
   ]
  },
  {
   "cell_type": "code",
   "execution_count": 4,
   "metadata": {},
   "outputs": [],
   "source": [
    "class Net(nn.Module):\n",
    "    def __init__(self):\n",
    "        super(Net, self).__init__()\n",
    "        \n",
    "        self.conv1 = nn.Conv2d(1, 8, 3, padding=1, bias=False) #input 28x28x1 Output 28x28x32 RF 3\n",
    "        self.bn1 = nn.BatchNorm2d(8)\n",
    "        self.conv2 = nn.Conv2d(8, 16, 3, padding=1, bias=False) #input 28x28x32 Output 28x28x64 RF 5\n",
    "        self.bn2 = nn.BatchNorm2d(16)\n",
    "        \n",
    "        self.pool1 = nn.MaxPool2d(2, 2) #input 28x28x64 Output 14x14x64 RF 6\n",
    "        \n",
    "        self.conv3 = nn.Conv2d(16, 32, 3, padding=1, bias=False) #input 14x14x64 Output 14x14x128 RF 10\n",
    "        self.bn3 = nn.BatchNorm2d(32)\n",
    "        self.conv4 = nn.Conv2d(32, 32, 3, padding=1, bias=False) #input 14x14x128 Output 14x14x256 RF 14\n",
    "        self.bn4 = nn.BatchNorm2d(32)\n",
    "        self.conv4_1 = nn.Conv2d(32, 8, 1) #input 14x14x128 Output 14x14x256 RF 14\n",
    "        self.bn4_1 = nn.BatchNorm2d(8)\n",
    "\n",
    "        self.pool2 = nn.MaxPool2d(2, 2) #input 14x14x256 Output 7x7x256 RF 16\n",
    "        \n",
    "        self.conv5 = nn.Conv2d(8, 16, 3, bias=False) #input 7x7x256 Output 5x5x512 RF 24\n",
    "        self.bn5 = nn.BatchNorm2d(16)\n",
    "        self.conv5_1 = nn.Conv2d(16, 16, 3, bias=False) #input 7x7x256 Output 5x5x512 RF 24\n",
    "        self.bn5_1 = nn.BatchNorm2d(16)\n",
    "        \n",
    "        self.gap6 = nn.AdaptiveAvgPool2d((1, 1)) #input 5x5x512 Output 3x3x1024 RF 28\n",
    "        self.conv7 = nn.Conv2d(16, 10, 1) #input 3x3x1024 Output 1x1x10 RF 36\n",
    "\n",
    "    def forward(self, x):\n",
    "        x = self.pool1(self.bn2(F.relu(self.conv2(self.bn1(F.relu(self.conv1(x)))))))\n",
    "        x = self.pool2(self.bn4_1(F.relu(self.conv4_1(self.bn4(F.relu(self.conv4(self.bn3(F.relu(self.conv3(x))))))))))\n",
    "        x = F.relu(self.gap6(self.bn5_1(F.relu(self.conv5_1(self.bn5(F.relu(self.conv5(x))))))))\n",
    "        x = self.conv7(x)\n",
    "        x = x.view(-1, 10)\n",
    "        return F.log_softmax(x)"
   ]
  },
  {
   "cell_type": "code",
   "execution_count": 5,
   "metadata": {},
   "outputs": [
    {
     "name": "stdout",
     "output_type": "stream",
     "text": [
      "----------------------------------------------------------------\n",
      "        Layer (type)               Output Shape         Param #\n",
      "================================================================\n",
      "            Conv2d-1            [-1, 8, 28, 28]              72\n",
      "       BatchNorm2d-2            [-1, 8, 28, 28]              16\n",
      "            Conv2d-3           [-1, 16, 28, 28]           1,152\n",
      "       BatchNorm2d-4           [-1, 16, 28, 28]              32\n",
      "         MaxPool2d-5           [-1, 16, 14, 14]               0\n",
      "            Conv2d-6           [-1, 32, 14, 14]           4,608\n",
      "       BatchNorm2d-7           [-1, 32, 14, 14]              64\n",
      "            Conv2d-8           [-1, 32, 14, 14]           9,216\n",
      "       BatchNorm2d-9           [-1, 32, 14, 14]              64\n",
      "           Conv2d-10            [-1, 8, 14, 14]             264\n",
      "      BatchNorm2d-11            [-1, 8, 14, 14]              16\n",
      "        MaxPool2d-12              [-1, 8, 7, 7]               0\n",
      "           Conv2d-13             [-1, 16, 5, 5]           1,152\n",
      "      BatchNorm2d-14             [-1, 16, 5, 5]              32\n",
      "           Conv2d-15             [-1, 16, 3, 3]           2,304\n",
      "      BatchNorm2d-16             [-1, 16, 3, 3]              32\n",
      "AdaptiveAvgPool2d-17             [-1, 16, 1, 1]               0\n",
      "           Conv2d-18             [-1, 10, 1, 1]             170\n",
      "================================================================\n",
      "Total params: 19,194\n",
      "Trainable params: 19,194\n",
      "Non-trainable params: 0\n",
      "----------------------------------------------------------------\n",
      "Input size (MB): 0.00\n",
      "Forward/backward pass size (MB): 0.54\n",
      "Params size (MB): 0.07\n",
      "Estimated Total Size (MB): 0.61\n",
      "----------------------------------------------------------------\n"
     ]
    },
    {
     "name": "stderr",
     "output_type": "stream",
     "text": [
      "/home/gauravp/anaconda3/envs/kerasretina/lib/python3.6/site-packages/ipykernel_launcher.py:35: UserWarning: Implicit dimension choice for log_softmax has been deprecated. Change the call to include dim=X as an argument.\n"
     ]
    }
   ],
   "source": [
    "use_cuda = torch.cuda.is_available()\n",
    "device = torch.device(\"cuda\" if use_cuda else \"cpu\")\n",
    "model = Net().to(device)\n",
    "summary(model, input_size=(1, 28, 28))"
   ]
  },
  {
   "cell_type": "code",
   "execution_count": 6,
   "metadata": {},
   "outputs": [],
   "source": [
    "torch.manual_seed(1)\n",
    "batch_size = 128\n",
    "\n",
    "kwargs = {'num_workers': 1, 'pin_memory': True} if use_cuda else {}\n",
    "train_loader = torch.utils.data.DataLoader(\n",
    "    datasets.MNIST('../data', train=True, download=True,\n",
    "                    transform=transforms.Compose([\n",
    "                        transforms.ToTensor(),\n",
    "                        transforms.Normalize((0.1307,), (0.3081,))\n",
    "                    ])),\n",
    "    batch_size=batch_size, shuffle=True, **kwargs)\n",
    "test_loader = torch.utils.data.DataLoader(\n",
    "    datasets.MNIST('../data', train=False, transform=transforms.Compose([\n",
    "                        transforms.ToTensor(),\n",
    "                        transforms.Normalize((0.1307,), (0.3081,))\n",
    "                    ])),\n",
    "    batch_size=batch_size, shuffle=True, **kwargs)"
   ]
  },
  {
   "cell_type": "code",
   "execution_count": 7,
   "metadata": {},
   "outputs": [],
   "source": [
    "from tqdm import tqdm\n",
    "def train(model, device, train_loader, optimizer, epoch):\n",
    "    model.train()\n",
    "    pbar = tqdm(train_loader)\n",
    "    for batch_idx, (data, target) in enumerate(pbar):\n",
    "        data, target = data.to(device), target.to(device)\n",
    "        optimizer.zero_grad()\n",
    "        output = model(data)\n",
    "        loss = F.nll_loss(output, target)\n",
    "        loss.backward()\n",
    "        optimizer.step()\n",
    "        pbar.set_description(desc= f'epoch = {epoch} loss={loss.item()} batch_id={batch_idx}')\n",
    "\n",
    "\n",
    "def test(model, device, test_loader):\n",
    "    model.eval()\n",
    "    test_loss = 0\n",
    "    correct = 0\n",
    "    with torch.no_grad():\n",
    "        for data, target in test_loader:\n",
    "            data, target = data.to(device), target.to(device)\n",
    "            output = model(data)\n",
    "            test_loss += F.nll_loss(output, target, reduction='sum').item()  # sum up batch loss\n",
    "            pred = output.argmax(dim=1, keepdim=True)  # get the index of the max log-probability\n",
    "            correct += pred.eq(target.view_as(pred)).sum().item()\n",
    "\n",
    "    test_loss /= len(test_loader.dataset)\n",
    "\n",
    "    print('\\nTest set: Average loss: {:.4f}, Accuracy: {}/{} ({:.4f}%)\\n'.format(\n",
    "        test_loss, correct, len(test_loader.dataset),\n",
    "        100. * correct / len(test_loader.dataset)))"
   ]
  },
  {
   "cell_type": "code",
   "execution_count": 8,
   "metadata": {
    "scrolled": false
   },
   "outputs": [
    {
     "name": "stderr",
     "output_type": "stream",
     "text": [
      "  0%|          | 0/469 [00:00<?, ?it/s]/home/gauravp/anaconda3/envs/kerasretina/lib/python3.6/site-packages/ipykernel_launcher.py:35: UserWarning: Implicit dimension choice for log_softmax has been deprecated. Change the call to include dim=X as an argument.\n",
      "epoch = 1 loss=0.06685187667608261 batch_id=468: 100%|██████████| 469/469 [00:06<00:00, 75.45it/s] \n",
      "  0%|          | 0/469 [00:00<?, ?it/s]"
     ]
    },
    {
     "name": "stdout",
     "output_type": "stream",
     "text": [
      "\n",
      "Test set: Average loss: 0.0659, Accuracy: 9819/10000 (98.1900%)\n",
      "\n"
     ]
    },
    {
     "name": "stderr",
     "output_type": "stream",
     "text": [
      "epoch = 2 loss=0.10560081154108047 batch_id=468: 100%|██████████| 469/469 [00:06<00:00, 75.24it/s] \n",
      "  0%|          | 0/469 [00:00<?, ?it/s]"
     ]
    },
    {
     "name": "stdout",
     "output_type": "stream",
     "text": [
      "\n",
      "Test set: Average loss: 0.0401, Accuracy: 9891/10000 (98.9100%)\n",
      "\n"
     ]
    },
    {
     "name": "stderr",
     "output_type": "stream",
     "text": [
      "epoch = 3 loss=0.015877684578299522 batch_id=468: 100%|██████████| 469/469 [00:06<00:00, 74.51it/s] \n",
      "  0%|          | 0/469 [00:00<?, ?it/s]"
     ]
    },
    {
     "name": "stdout",
     "output_type": "stream",
     "text": [
      "\n",
      "Test set: Average loss: 0.0290, Accuracy: 9906/10000 (99.0600%)\n",
      "\n"
     ]
    },
    {
     "name": "stderr",
     "output_type": "stream",
     "text": [
      "epoch = 4 loss=0.006152307149022818 batch_id=468: 100%|██████████| 469/469 [00:06<00:00, 76.25it/s] \n",
      "  0%|          | 0/469 [00:00<?, ?it/s]"
     ]
    },
    {
     "name": "stdout",
     "output_type": "stream",
     "text": [
      "\n",
      "Test set: Average loss: 0.0276, Accuracy: 9916/10000 (99.1600%)\n",
      "\n"
     ]
    },
    {
     "name": "stderr",
     "output_type": "stream",
     "text": [
      "epoch = 5 loss=0.015949316322803497 batch_id=468: 100%|██████████| 469/469 [00:06<00:00, 74.44it/s] \n",
      "  0%|          | 0/469 [00:00<?, ?it/s]"
     ]
    },
    {
     "name": "stdout",
     "output_type": "stream",
     "text": [
      "\n",
      "Test set: Average loss: 0.0286, Accuracy: 9912/10000 (99.1200%)\n",
      "\n"
     ]
    },
    {
     "name": "stderr",
     "output_type": "stream",
     "text": [
      "epoch = 6 loss=0.006843139883130789 batch_id=468: 100%|██████████| 469/469 [00:06<00:00, 74.86it/s] \n",
      "  0%|          | 0/469 [00:00<?, ?it/s]"
     ]
    },
    {
     "name": "stdout",
     "output_type": "stream",
     "text": [
      "\n",
      "Test set: Average loss: 0.0254, Accuracy: 9923/10000 (99.2300%)\n",
      "\n"
     ]
    },
    {
     "name": "stderr",
     "output_type": "stream",
     "text": [
      "epoch = 7 loss=0.01718558929860592 batch_id=468: 100%|██████████| 469/469 [00:06<00:00, 73.97it/s]  \n",
      "  0%|          | 0/469 [00:00<?, ?it/s]"
     ]
    },
    {
     "name": "stdout",
     "output_type": "stream",
     "text": [
      "\n",
      "Test set: Average loss: 0.0221, Accuracy: 9935/10000 (99.3500%)\n",
      "\n"
     ]
    },
    {
     "name": "stderr",
     "output_type": "stream",
     "text": [
      "epoch = 8 loss=0.09702710062265396 batch_id=468: 100%|██████████| 469/469 [00:06<00:00, 71.61it/s]  \n",
      "  0%|          | 0/469 [00:00<?, ?it/s]"
     ]
    },
    {
     "name": "stdout",
     "output_type": "stream",
     "text": [
      "\n",
      "Test set: Average loss: 0.0244, Accuracy: 9923/10000 (99.2300%)\n",
      "\n"
     ]
    },
    {
     "name": "stderr",
     "output_type": "stream",
     "text": [
      "epoch = 9 loss=0.050015270709991455 batch_id=468: 100%|██████████| 469/469 [00:06<00:00, 75.39it/s] \n",
      "  0%|          | 0/469 [00:00<?, ?it/s]"
     ]
    },
    {
     "name": "stdout",
     "output_type": "stream",
     "text": [
      "\n",
      "Test set: Average loss: 0.0197, Accuracy: 9931/10000 (99.3100%)\n",
      "\n"
     ]
    },
    {
     "name": "stderr",
     "output_type": "stream",
     "text": [
      "epoch = 10 loss=0.006944621447473764 batch_id=468: 100%|██████████| 469/469 [00:06<00:00, 74.78it/s] \n",
      "  0%|          | 0/469 [00:00<?, ?it/s]"
     ]
    },
    {
     "name": "stdout",
     "output_type": "stream",
     "text": [
      "\n",
      "Test set: Average loss: 0.0229, Accuracy: 9926/10000 (99.2600%)\n",
      "\n"
     ]
    },
    {
     "name": "stderr",
     "output_type": "stream",
     "text": [
      "epoch = 11 loss=0.01845356822013855 batch_id=468: 100%|██████████| 469/469 [00:06<00:00, 75.76it/s]  \n",
      "  0%|          | 0/469 [00:00<?, ?it/s]"
     ]
    },
    {
     "name": "stdout",
     "output_type": "stream",
     "text": [
      "\n",
      "Test set: Average loss: 0.0216, Accuracy: 9933/10000 (99.3300%)\n",
      "\n"
     ]
    },
    {
     "name": "stderr",
     "output_type": "stream",
     "text": [
      "epoch = 12 loss=0.009668081998825073 batch_id=468: 100%|██████████| 469/469 [00:06<00:00, 73.85it/s] \n",
      "  0%|          | 0/469 [00:00<?, ?it/s]"
     ]
    },
    {
     "name": "stdout",
     "output_type": "stream",
     "text": [
      "\n",
      "Test set: Average loss: 0.0204, Accuracy: 9930/10000 (99.3000%)\n",
      "\n"
     ]
    },
    {
     "name": "stderr",
     "output_type": "stream",
     "text": [
      "epoch = 13 loss=0.003357241628691554 batch_id=468: 100%|██████████| 469/469 [00:06<00:00, 73.91it/s] \n",
      "  0%|          | 0/469 [00:00<?, ?it/s]"
     ]
    },
    {
     "name": "stdout",
     "output_type": "stream",
     "text": [
      "\n",
      "Test set: Average loss: 0.0193, Accuracy: 9935/10000 (99.3500%)\n",
      "\n"
     ]
    },
    {
     "name": "stderr",
     "output_type": "stream",
     "text": [
      "epoch = 14 loss=0.01760190911591053 batch_id=468: 100%|██████████| 469/469 [00:06<00:00, 74.93it/s]  \n",
      "  0%|          | 0/469 [00:00<?, ?it/s]"
     ]
    },
    {
     "name": "stdout",
     "output_type": "stream",
     "text": [
      "\n",
      "Test set: Average loss: 0.0211, Accuracy: 9934/10000 (99.3400%)\n",
      "\n"
     ]
    },
    {
     "name": "stderr",
     "output_type": "stream",
     "text": [
      "epoch = 15 loss=0.007573688868433237 batch_id=468: 100%|██████████| 469/469 [00:06<00:00, 73.38it/s] \n",
      "  0%|          | 0/469 [00:00<?, ?it/s]"
     ]
    },
    {
     "name": "stdout",
     "output_type": "stream",
     "text": [
      "\n",
      "Test set: Average loss: 0.0194, Accuracy: 9945/10000 (99.4500%)\n",
      "\n"
     ]
    },
    {
     "name": "stderr",
     "output_type": "stream",
     "text": [
      "epoch = 16 loss=0.004133438225835562 batch_id=468: 100%|██████████| 469/469 [00:06<00:00, 75.76it/s]  \n",
      "  0%|          | 0/469 [00:00<?, ?it/s]"
     ]
    },
    {
     "name": "stdout",
     "output_type": "stream",
     "text": [
      "\n",
      "Test set: Average loss: 0.0208, Accuracy: 9940/10000 (99.4000%)\n",
      "\n"
     ]
    },
    {
     "name": "stderr",
     "output_type": "stream",
     "text": [
      "epoch = 17 loss=0.004283492919057608 batch_id=468: 100%|██████████| 469/469 [00:06<00:00, 74.24it/s]  \n",
      "  0%|          | 0/469 [00:00<?, ?it/s]"
     ]
    },
    {
     "name": "stdout",
     "output_type": "stream",
     "text": [
      "\n",
      "Test set: Average loss: 0.0263, Accuracy: 9925/10000 (99.2500%)\n",
      "\n"
     ]
    },
    {
     "name": "stderr",
     "output_type": "stream",
     "text": [
      "epoch = 18 loss=0.0020820896606892347 batch_id=468: 100%|██████████| 469/469 [00:06<00:00, 71.55it/s] \n",
      "  0%|          | 0/469 [00:00<?, ?it/s]"
     ]
    },
    {
     "name": "stdout",
     "output_type": "stream",
     "text": [
      "\n",
      "Test set: Average loss: 0.0220, Accuracy: 9938/10000 (99.3800%)\n",
      "\n"
     ]
    },
    {
     "name": "stderr",
     "output_type": "stream",
     "text": [
      "epoch = 19 loss=0.0010424405336380005 batch_id=468: 100%|██████████| 469/469 [00:06<00:00, 75.20it/s] \n",
      "  0%|          | 0/469 [00:00<?, ?it/s]"
     ]
    },
    {
     "name": "stdout",
     "output_type": "stream",
     "text": [
      "\n",
      "Test set: Average loss: 0.0238, Accuracy: 9934/10000 (99.3400%)\n",
      "\n"
     ]
    },
    {
     "name": "stderr",
     "output_type": "stream",
     "text": [
      "epoch = 20 loss=0.02048623003065586 batch_id=468: 100%|██████████| 469/469 [00:06<00:00, 74.34it/s]   \n"
     ]
    },
    {
     "name": "stdout",
     "output_type": "stream",
     "text": [
      "\n",
      "Test set: Average loss: 0.0159, Accuracy: 9954/10000 (99.5400%)\n",
      "\n"
     ]
    }
   ],
   "source": [
    "model = Net().to(device)\n",
    "optimizer = optim.SGD(model.parameters(), lr=0.01, momentum=0.9)\n",
    "num_epochs = 20\n",
    "for epoch in range(1, num_epochs + 1):\n",
    "    train(model, device, train_loader, optimizer, epoch)\n",
    "    test(model, device, test_loader)"
   ]
  },
  {
   "cell_type": "code",
   "execution_count": null,
   "metadata": {},
   "outputs": [],
   "source": []
  }
 ],
 "metadata": {
  "kernelspec": {
   "display_name": "Python 3",
   "language": "python",
   "name": "python3"
  },
  "language_info": {
   "codemirror_mode": {
    "name": "ipython",
    "version": 3
   },
   "file_extension": ".py",
   "mimetype": "text/x-python",
   "name": "python",
   "nbconvert_exporter": "python",
   "pygments_lexer": "ipython3",
   "version": "3.6.8"
  }
 },
 "nbformat": 4,
 "nbformat_minor": 4
}
